{
 "cells": [
  {
   "cell_type": "markdown",
   "metadata": {},
   "source": [
    "# Module 02: Introduction to Finite Differences\n",
    "\n",
    "## 1. Introduction and Background\n",
    "\n",
    "$$\n",
    "\\frac{d\\theta}{dt} = -k\\cdot\\theta + P_{eff}\n",
    "$$\n",
    "\n",
    "$$\n",
    "\\frac{\\Delta \\theta}{\\Delta t} = -k\\cdot\\theta + P_{eff}\n",
    "$$\n",
    "\n",
    "\n",
    "$$\n",
    "\\frac{\\theta_t - \\theta_{t-1}}{\\Delta t} = -k\\cdot\\theta_{t-1} + P_{eff,t-1}\n",
    "$$\n",
    "\n",
    "$$\n",
    "\\theta_t = \\left(-k\\cdot\\theta_{t-1} + P_{eff,t-1}\\right)\\cdot\\Delta t + \\theta_{t-1}\n",
    "$$\n",
    "\n",
    "## 2. Model Setup\n"
   ]
  },
  {
   "cell_type": "code",
   "execution_count": 14,
   "metadata": {},
   "outputs": [],
   "source": [
    "import numpy as np\n",
    "import matplotlib.pyplot as plt\n",
    "\n",
    "P_eff_file = 'Precip.csv' # The name of the effective precipitation file\n",
    "\n",
    "k = 0.05\n",
    "theta0 = 12.0\n",
    "\n",
    "data = np.loadtxt(P_eff_file,delimiter=',')"
   ]
  },
  {
   "cell_type": "code",
   "execution_count": 15,
   "metadata": {},
   "outputs": [
    {
     "data": {
      "text/plain": [
       "array([[  0. ,   0. ],\n",
       "       [  1. ,   0. ],\n",
       "       [  2. ,   0. ],\n",
       "       [  3. ,   0. ],\n",
       "       [  4. ,   0. ],\n",
       "       [  5. ,   0. ],\n",
       "       [  6. ,   0. ],\n",
       "       [  7. ,   0. ],\n",
       "       [  8. ,   0. ],\n",
       "       [  9. ,   0. ],\n",
       "       [ 10. ,   0. ],\n",
       "       [ 11. ,   0. ],\n",
       "       [ 12. ,   0. ],\n",
       "       [ 13. ,   0. ],\n",
       "       [ 14. ,   0. ],\n",
       "       [ 15. ,   0. ],\n",
       "       [ 16. ,   0. ],\n",
       "       [ 17. ,   0. ],\n",
       "       [ 18. ,   0. ],\n",
       "       [ 19. ,   0. ],\n",
       "       [ 20. ,   0. ],\n",
       "       [ 21. ,   0. ],\n",
       "       [ 22. ,   0. ],\n",
       "       [ 23. ,   0. ],\n",
       "       [ 24. ,   0. ],\n",
       "       [ 25. ,   8. ],\n",
       "       [ 26. ,   9. ],\n",
       "       [ 27. ,  12.5],\n",
       "       [ 28. ,  20. ],\n",
       "       [ 29. ,  22.5],\n",
       "       [ 30. ,   7. ],\n",
       "       [ 31. ,   0. ],\n",
       "       [ 32. ,   0. ],\n",
       "       [ 33. ,   0. ],\n",
       "       [ 34. ,   0. ],\n",
       "       [ 35. ,   0. ],\n",
       "       [ 36. ,   0. ],\n",
       "       [ 37. ,   0. ],\n",
       "       [ 38. ,   0. ],\n",
       "       [ 39. ,   0. ],\n",
       "       [ 40. ,   0. ],\n",
       "       [ 41. ,   0. ],\n",
       "       [ 42. ,   0. ],\n",
       "       [ 43. ,   0. ],\n",
       "       [ 44. ,   0. ],\n",
       "       [ 45. ,   0. ],\n",
       "       [ 46. ,   0. ],\n",
       "       [ 47. ,   0. ],\n",
       "       [ 48. ,   0. ],\n",
       "       [ 49. ,   8. ],\n",
       "       [ 50. ,   7. ],\n",
       "       [ 51. ,   6.5],\n",
       "       [ 52. ,   5.5],\n",
       "       [ 53. ,   5.4],\n",
       "       [ 54. ,   6.2],\n",
       "       [ 55. ,   6.1],\n",
       "       [ 56. ,   6.2],\n",
       "       [ 57. ,   6. ],\n",
       "       [ 58. ,   4.2],\n",
       "       [ 59. ,   2.5],\n",
       "       [ 60. ,   1.2],\n",
       "       [ 61. ,   0. ],\n",
       "       [ 62. ,   0. ],\n",
       "       [ 63. ,   0. ],\n",
       "       [ 64. ,   0. ],\n",
       "       [ 65. ,   0. ],\n",
       "       [ 66. ,   0. ],\n",
       "       [ 67. ,   0. ],\n",
       "       [ 68. ,   0. ],\n",
       "       [ 69. ,   0. ],\n",
       "       [ 70. ,   0. ],\n",
       "       [ 71. ,   0. ],\n",
       "       [ 72. ,   0. ],\n",
       "       [ 73. ,   0. ],\n",
       "       [ 74. ,   0. ],\n",
       "       [ 75. ,   0. ],\n",
       "       [ 76. ,   0. ],\n",
       "       [ 77. ,   0. ],\n",
       "       [ 78. ,   0. ],\n",
       "       [ 79. ,   0. ],\n",
       "       [ 80. ,   0. ],\n",
       "       [ 81. ,   0. ],\n",
       "       [ 82. ,   0. ],\n",
       "       [ 83. ,   0. ],\n",
       "       [ 84. ,   0. ],\n",
       "       [ 85. ,   0. ],\n",
       "       [ 86. ,   0. ],\n",
       "       [ 87. ,   0. ],\n",
       "       [ 88. ,   0. ],\n",
       "       [ 89. ,   0. ],\n",
       "       [ 90. ,   0. ],\n",
       "       [ 91. ,   0. ],\n",
       "       [ 92. ,   0. ],\n",
       "       [ 93. ,   0. ],\n",
       "       [ 94. ,   0. ],\n",
       "       [ 95. ,   0. ],\n",
       "       [ 96. ,   0. ],\n",
       "       [ 97. ,   0. ],\n",
       "       [ 98. ,   0. ],\n",
       "       [ 99. ,   0. ],\n",
       "       [100. ,   0. ],\n",
       "       [101. ,   0. ],\n",
       "       [102. ,   0. ],\n",
       "       [103. ,   0. ],\n",
       "       [104. ,   0. ],\n",
       "       [105. ,   0. ],\n",
       "       [106. ,   0. ],\n",
       "       [107. ,   0. ],\n",
       "       [108. ,   0. ],\n",
       "       [109. ,   0. ],\n",
       "       [110. ,   0. ],\n",
       "       [111. ,   0. ],\n",
       "       [112. ,   0. ],\n",
       "       [113. ,   0. ],\n",
       "       [114. ,   0. ],\n",
       "       [115. ,   0. ],\n",
       "       [116. ,   0. ],\n",
       "       [117. ,   0. ],\n",
       "       [118. ,   0. ],\n",
       "       [119. ,  15. ],\n",
       "       [120. ,  25.2],\n",
       "       [121. ,  27.2],\n",
       "       [122. ,  21.1],\n",
       "       [123. ,  15.4],\n",
       "       [124. ,   4.3],\n",
       "       [125. ,  18.1],\n",
       "       [126. ,   0. ],\n",
       "       [127. ,   0. ],\n",
       "       [128. ,   0. ],\n",
       "       [129. ,   0. ],\n",
       "       [130. ,   0. ],\n",
       "       [131. ,   0. ],\n",
       "       [132. ,   0. ],\n",
       "       [133. ,   0. ],\n",
       "       [134. ,   0. ],\n",
       "       [135. ,   0. ],\n",
       "       [136. ,   0. ],\n",
       "       [137. ,   0. ],\n",
       "       [138. ,   0. ],\n",
       "       [139. ,   0. ],\n",
       "       [140. ,   0. ],\n",
       "       [141. ,   0. ],\n",
       "       [142. ,   0. ],\n",
       "       [143. ,   0. ],\n",
       "       [144. ,   0. ],\n",
       "       [145. ,   0. ],\n",
       "       [146. ,   0. ],\n",
       "       [147. ,   0. ],\n",
       "       [148. ,   0. ],\n",
       "       [149. ,   0. ],\n",
       "       [150. ,   0. ],\n",
       "       [151. ,   0. ],\n",
       "       [152. ,   0. ],\n",
       "       [153. ,   0. ],\n",
       "       [154. ,   0. ],\n",
       "       [155. ,   0. ],\n",
       "       [156. ,   0. ],\n",
       "       [157. ,   0. ],\n",
       "       [158. ,   0. ],\n",
       "       [159. ,   0. ],\n",
       "       [160. ,   0. ],\n",
       "       [161. ,   0. ],\n",
       "       [162. ,   0. ],\n",
       "       [163. ,   0. ],\n",
       "       [164. ,   0. ],\n",
       "       [165. ,   0. ],\n",
       "       [166. ,   0. ],\n",
       "       [167. ,   0. ]])"
      ]
     },
     "execution_count": 15,
     "metadata": {},
     "output_type": "execute_result"
    }
   ],
   "source": [
    "data"
   ]
  },
  {
   "cell_type": "markdown",
   "metadata": {},
   "source": [
    "## 3. Run the Model"
   ]
  },
  {
   "cell_type": "code",
   "execution_count": 16,
   "metadata": {},
   "outputs": [],
   "source": [
    "hour = (data[:,0]).astype(int)\n",
    "P_eff = data[:,1]"
   ]
  },
  {
   "cell_type": "code",
   "execution_count": 17,
   "metadata": {},
   "outputs": [],
   "source": [
    "theta = np.zeros((hour.size))\n",
    "\n",
    "dt = hour[1] - hour[0]\n",
    "\n",
    "for t in hour:\n",
    "    \n",
    "    if (t==0):\n",
    "        theta[t] = (P_eff[t] - k*theta0)*dt + theta0\n",
    "    else:\n",
    "        theta[t] = (P_eff[t] - k*theta[t-1])*dt + theta[t-1]\n"
   ]
  },
  {
   "cell_type": "markdown",
   "metadata": {},
   "source": [
    "## 4. Plot the Results"
   ]
  },
  {
   "cell_type": "code",
   "execution_count": 20,
   "metadata": {},
   "outputs": [
    {
     "data": {
      "text/plain": [
       "[<matplotlib.lines.Line2D at 0x7fcf6fd7e750>]"
      ]
     },
     "execution_count": 20,
     "metadata": {},
     "output_type": "execute_result"
    },
    {
     "data": {
      "image/png": "[encoded data removed]",
      "text/plain": [
       "<Figure size 720x720 with 2 Axes>"
      ]
     },
     "metadata": {
      "needs_background": "light"
     },
     "output_type": "display_data"
    }
   ],
   "source": [
    "plt.rcParams.update({'font.size': 16}) \n",
    "\n",
    "plt.figure(figsize=(10,10))\n",
    "plt.subplot(2,1,1)\n",
    "plt.bar(hour,P_eff,width=dt)\n",
    "plt.subplot(2,1,2)\n",
    "plt.plot(hour,theta)"
   ]
  },
  {
   "cell_type": "code",
   "execution_count": null,
   "metadata": {},
   "outputs": [],
   "source": []
  }
 ],
 "metadata": {
  "kernelspec": {
   "display_name": "Python 3",
   "language": "python",
   "name": "python3"
  },
  "language_info": {
   "codemirror_mode": {
    "name": "ipython",
    "version": 3
   },
   "file_extension": ".py",
   "mimetype": "text/x-python",
   "name": "python",
   "nbconvert_exporter": "python",
   "pygments_lexer": "ipython3",
   "version": "3.7.7"
  }
 },
 "nbformat": 4,
 "nbformat_minor": 4
}
