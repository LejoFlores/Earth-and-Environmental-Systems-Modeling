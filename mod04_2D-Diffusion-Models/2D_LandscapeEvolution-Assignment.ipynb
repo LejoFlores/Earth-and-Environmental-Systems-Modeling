{
 "cells": [
  {
   "cell_type": "markdown",
   "metadata": {},
   "source": [
    "# Module 04: Assignment for 2-Dimensional Landscape Evolution Model\n",
    "\n",
    "## Overview and Requirements\n",
    "\n",
    "In this assignment you will examine the long term behavior of the elevation field under two different assumptions about the landscape diffusivity (i.e., the variable controlling soil creep). Use the code below to conduct the following experiments:\n",
    "\n",
    "__Experiment 1:__ Using the code below conduct an experiment that leaves everything unchanged, except `tf` which you should increase to 100,000 yrs and increasing the plotting output interval (`OutputInterval`) to 20,000 years. Run the model and also create an array that is `Nt` in length to store the maximum elevation in the 2-D domain at each time step. You will need to use the `.max` function on `hnext` to obtain this inside the main `for` loop of the model.\n",
    "\n",
    "__Experiment 2:__ Using the same setup as you did for Experiment 1 above, now _decrease_ the diffusivity `D` by an order of magnitude and re-run the model, again keeping track of the maximum elevation in the domain at each modeling time step. \n",
    "\n",
    "The notebook you turn in should have the following plots:\n",
    "* The maximum elevation versus time for both experiments on the same plot\n",
    "* The 3D plot containing topographic surfaces at every 20,000 year interval for __Experiment 1__ (clearly labelled)\n",
    "* The 3D plot containing topographic surfaces at every 20,000 year interval for __Experiment 2__ (clearly labelled)\n",
    "\n",
    "Answer the following question:\n",
    "* How does changing the diffusivity change the evolution of the maximum elevation in each experiment? \n",
    "* If we were to allow Experiments 1 and 2 to run for an infinite amount of time, how would the topographic surface between the experiments? What would be the only difference between the two topographies?"
   ]
  },
  {
   "cell_type": "code",
   "execution_count": null,
   "metadata": {},
   "outputs": [],
   "source": [
    "import numpy as np\n",
    "import matplotlib.pyplot as plt\n",
    "\n",
    "hi = 100.0 # (m)\n",
    "D = 2.5 # (m^2/yr)\n",
    "\n",
    "ti = 0.0 # (yr)\n",
    "tf = 15000.0 # (yr)\n",
    "dt = 5 # (yr)\n",
    "\n",
    "# Uplift rate (m/yr)\n",
    "U = 0.005 # (m/yr)\n",
    "\n",
    "# Plotting options\n",
    "individual_plots = 0 # If 1, individual plot at every output interval, all stacked otherwise\n",
    "OutputInterval = 3000.0 # (yr)\n",
    "\n",
    "Nt = (tf - ti)/dt + 1\n",
    "\n",
    "Noutput = (tf - ti)/OutputInterval + 1\n",
    "\n",
    "xMax = yMax = 500.0\n",
    "xMin = yMin = 0.0\n",
    "Nx = Ny = 50\n",
    "\n",
    "x = np.linspace(xMin,xMax,Nx)\n",
    "y = np.linspace(yMin,yMax,Ny)\n",
    "\n",
    "dx = x[1] - x[0]\n",
    "dy = y[1] - y[0]\n",
    "\n",
    "X, Y = np.meshgrid(x,y)"
   ]
  },
  {
   "cell_type": "markdown",
   "metadata": {},
   "source": [
    "## Compute the Stability Variable "
   ]
  },
  {
   "cell_type": "code",
   "execution_count": null,
   "metadata": {
    "collapsed": false,
    "jupyter": {
     "outputs_hidden": false
    }
   },
   "outputs": [],
   "source": [
    "alpha = D*dt/dx**2\n",
    "print(\"alpha = \",alpha)\n",
    "print(\"dt = \",dt)\n",
    "print(\"dx = \",dx)\n",
    "if alpha >= 0.5:\n",
    "    raise Exception(\"Stability criteria error! Either decrease dt or increase dx!\")"
   ]
  },
  {
   "cell_type": "markdown",
   "metadata": {},
   "source": [
    "## Setup the Solver Matrix"
   ]
  },
  {
   "cell_type": "code",
   "execution_count": null,
   "metadata": {
    "collapsed": false,
    "jupyter": {
     "outputs_hidden": false
    }
   },
   "outputs": [],
   "source": [
    "N = Nx*Ny\n",
    "\n",
    "ind = np.linspace(0,N-1,N)\n",
    "Ind = np.linspace(0,N-1,N).reshape((Ny,Nx))\n",
    "\n",
    "Delta2 = np.matrix(np.diagflat(-4.0*np.ones((int(N),1)),k=0) + np.diagflat(np.ones((int(N-1),1)),k=1) \\\n",
    "    + np.diagflat(np.ones((int(N-1),1)),k=-1) + np.diagflat(np.ones((int(N-Nx),1)),k=int(Nx)) \\\n",
    "    + np.diagflat(np.ones((int(N-Ny),1)),k=-(int(Ny))))\n"
   ]
  },
  {
   "cell_type": "markdown",
   "metadata": {},
   "source": [
    "## Setup the Boundary Conditions\n",
    "\n",
    "In this problem, the boundary conditions are a little more complex. We will assume that the elevation at the corder of our square domain remain fixed throughout the simulation. But the rest of the area along the edges of the domain can evolve. \n",
    "\n",
    "What we need to do to allow this is actually first solve the 1-D problem once (using the same $\\Delta x$, $D$, $\\Delta t$, and simulation duration) on the edges of the domain with fixed edges, and then use that solution at every time step along ___all four___ edges of the domain. "
   ]
  },
  {
   "cell_type": "code",
   "execution_count": null,
   "metadata": {
    "collapsed": false,
    "jupyter": {
     "outputs_hidden": false
    }
   },
   "outputs": [],
   "source": [
    "NBound = np.array(Ind[0,:])\n",
    "SBound = np.array(Ind[-1,:])\n",
    "WBound = np.array(Ind[:,0])\n",
    "EBound = np.array(Ind[:,-1])\n",
    "\n",
    "# Now compute the boundary conditions on the sides of the domain as the temporal evolution of a !D\n",
    "# profile in response to a lowering of head on 1-side of the domain\n",
    "\n",
    "Delta2_1D = np.matrix(np.diagflat(-2.0*np.ones((int(Nx),1)),k=0) + np.diagflat(np.ones((int(Nx-1),1)),k=1) \\\n",
    "    + np.diagflat(np.ones((int(Nx-1),1)),k=-1))\n",
    "\n",
    "h0_1D = hi*np.ones(shape=(int(Nx),1))\n",
    "\n",
    "H_1D = np.matrix(np.zeros(shape=(int(Nx),int(Nt))))\n",
    "\n",
    "H_1D[:,0] = np.matrix(h0_1D)\n",
    "\n",
    "for i in range(1,int(Nt)):\n",
    "    hinit_1D = H_1D[:,i-1] \n",
    "        \n",
    "    hnext_1D = hinit_1D + alpha*Delta2_1D*hinit_1D + U*dt\n",
    "    hnext_1D[0] = hi\n",
    "    hnext_1D[-1] = hi\n",
    "\n",
    "    H_1D[:,i] = hnext_1D[:,0]"
   ]
  },
  {
   "cell_type": "markdown",
   "metadata": {},
   "source": [
    "## Run the Model\n",
    "\n",
    "Now we need to run the model. Here we use an explicit approach to the solution, but we pose it as a linear algebra matrix-vector multiplication (i.e., we don't have to invert the matrix $\\mathbf{A}$. We will create a 3-D plot at fixed intervals along the simulation... it's too much to visualize each timestep. You can control how often plots are created using the variable `OutputInterval`. "
   ]
  },
  {
   "cell_type": "code",
   "execution_count": null,
   "metadata": {
    "collapsed": false,
    "jupyter": {
     "outputs_hidden": false
    }
   },
   "outputs": [],
   "source": [
    "import matplotlib as mpl\n",
    "\n",
    "h0 = hi*np.ones(shape=(int(N),1)) + 0.1*np.random.randn(N,1)\n",
    "hnext = np.matrix(h0)\n",
    "\n",
    "figcounter = 1\n",
    "\n",
    "for i in range(1,int(Nt)):\n",
    "    hinit = hnext + U*dt\n",
    "    \n",
    "    hnext = hinit + alpha*Delta2*hinit \n",
    "\n",
    "    hnext[NBound.astype(int)] = H_1D[:,i]\n",
    "    hnext[EBound.astype(int)] = H_1D[:,i] \n",
    "    hnext[SBound.astype(int)] = H_1D[:,i]\n",
    "    hnext[WBound.astype(int)] = H_1D[:,i]\n",
    "    \n",
    "    if(i==1) or ((i*dt) % OutputInterval == 0):\n",
    "        H = np.reshape(hnext,(Ny,Nx))\n",
    "\n",
    "        if(individual_plots==1):\n",
    "            fig, ax = plt.subplots(subplot_kw={'projection': '3d'}, figsize=(14,10), dpi=150)\n",
    "            ax.set_title(\"Elevation $h_{i,j}$ at t = %s\"%(i*dt), fontsize=18)\n",
    "        else:\n",
    "            if(figcounter==1):\n",
    "                fig, ax = plt.subplots(subplot_kw={'projection': '3d'}, figsize=(14,10), dpi=150)\n",
    "            ax.set_title('Elevation [m]', fontsize=18)\n",
    "        ax.set_xlabel('$x$', fontsize=18)\n",
    "        ax.set_ylabel('$y$', fontsize=18)\n",
    "        ax.set_zlabel('Elevation [m]', fontsize=18)\n",
    "        ax.set_xticks(np.arange(xMin,xMax+1.0,(xMax-xMin)/5))\n",
    "        ax.set_yticks(np.arange(yMin,yMax+1.0,(yMax-yMin)/5))\n",
    "        mpl.rcParams['xtick.labelsize'] = 16\n",
    "        mpl.rcParams['ytick.labelsize'] = 16\n",
    "        ax.plot_surface(X,Y,H,cmap='YlGnBu_r',linewidth=0.2,edgecolors='k')\n",
    "        ax.set_zlim(hi, hi+U*dt*Nt)\n",
    "        ax.view_init(elev=20.0)\n",
    "        figcounter = figcounter + 1\n",
    "\n",
    "plt.show()"
   ]
  },
  {
   "cell_type": "markdown",
   "metadata": {},
   "source": [
    "### "
   ]
  }
 ],
 "metadata": {
  "kernelspec": {
   "display_name": "Python 3 (ipykernel)",
   "language": "python",
   "name": "python3"
  },
  "language_info": {
   "codemirror_mode": {
    "name": "ipython",
    "version": 3
   },
   "file_extension": ".py",
   "mimetype": "text/x-python",
   "name": "python",
   "nbconvert_exporter": "python",
   "pygments_lexer": "ipython3",
   "version": "3.8.3"
  }
 },
 "nbformat": 4,
 "nbformat_minor": 4
}
