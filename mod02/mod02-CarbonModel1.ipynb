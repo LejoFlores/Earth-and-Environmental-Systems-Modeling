{
 "cells": [
  {
   "cell_type": "markdown",
   "metadata": {},
   "source": [
    "# Module 02: A Box Model of Land-Atmosphere Carbon Balance\n",
    "\n",
    "### 1. Introduction\n"
   ]
  },
  {
   "cell_type": "code",
   "execution_count": null,
   "metadata": {},
   "outputs": [],
   "source": [
    "import numpy as np\n",
    "import matplotlib.pyplot as plt\n",
    "\n",
    "M1i = 1100.0\n",
    "M2i = 300.0\n",
    "\n",
    "k12 = 0.075 \n",
    "k21 = 0.1\n",
    "\n",
    "ti = 0.0\n",
    "tf = 20.0\n",
    "dt = 1\n"
   ]
  },
  {
   "cell_type": "code",
   "execution_count": null,
   "metadata": {},
   "outputs": [],
   "source": [
    "t = np.arange(ti,tf+dt,dt)\n",
    "\n",
    "Nt = t.size\n",
    "\n",
    "print('t has '+str(Nt)+' time steps')"
   ]
  },
  {
   "cell_type": "code",
   "execution_count": null,
   "metadata": {},
   "outputs": [],
   "source": [
    "M1 = np.zeros((Nt,))\n",
    "M2 = np.zeros((Nt,))"
   ]
  },
  {
   "cell_type": "code",
   "execution_count": null,
   "metadata": {},
   "outputs": [],
   "source": [
    "for i in np.arange(Nt):\n",
    "    if (i==0):\n",
    "\n",
    "        M1[i] = M1i\n",
    "        M2[i] = M2i\n",
    "        \n",
    "    else:\n",
    "        dM1dt = k21*M2[i-1] - k12*M1[i-1]\n",
    "        dM2dt = k12*M1[i-1] - k21*M2[i-1]\n",
    "        \n",
    "        M1[i] = M1[i-1] + dM1dt*dt\n",
    "        M2[i] = M2[i-1] + dM2dt*dt\n"
   ]
  },
  {
   "cell_type": "code",
   "execution_count": null,
   "metadata": {},
   "outputs": [],
   "source": [
    "M1_anlt = (k21*(M1i+M2i))/(k12+k21) + (k12*M1i - k21*M2i)/(k12+k21)*np.exp(-(k12+k21)*t)\n",
    "M2_anlt = (k12*(M1i+M2i))/(k12+k21) - (k12*M1i - k21*M2i)/(k12+k21)*np.exp(-(k12+k21)*t)"
   ]
  },
  {
   "cell_type": "code",
   "execution_count": null,
   "metadata": {},
   "outputs": [],
   "source": [
    "plt.figure(figsize=(8.5,11))\n",
    "plt.rcParams.update({'font.size': 16})\n",
    "\n",
    "plt.subplot(2,1,1)\n",
    "plt.title('What is this?')\n",
    "plt.plot(t,M1,'bo', label='what is this #1a?')\n",
    "plt.plot(t,M1_anlt,'k-', label='what is this #1b?')\n",
    "plt.xlabel('What is the x-axis label')\n",
    "plt.ylabel('What is the y-axis label')\n",
    "plt.legend()\n",
    "\n",
    "plt.subplot(2,1,2)\n",
    "plt.plot(t,M2,'bo', label='what is this #2a?')\n",
    "plt.plot(t,M2_anlt,'k-', label='what is this #2b?')\n",
    "plt.xlabel('What is the x-axis label')\n",
    "plt.ylabel('What is the y-axis label')\n",
    "plt.legend()\n",
    "\n",
    "plt.show()"
   ]
  },
  {
   "cell_type": "code",
   "execution_count": null,
   "metadata": {},
   "outputs": [],
   "source": []
  }
 ],
 "metadata": {
  "kernelspec": {
   "display_name": "Python 3",
   "language": "python",
   "name": "python3"
  },
  "language_info": {
   "codemirror_mode": {
    "name": "ipython",
    "version": 3
   },
   "file_extension": ".py",
   "mimetype": "text/x-python",
   "name": "python",
   "nbconvert_exporter": "python",
   "pygments_lexer": "ipython3",
   "version": "3.7.7"
  }
 },
 "nbformat": 4,
 "nbformat_minor": 4
}
