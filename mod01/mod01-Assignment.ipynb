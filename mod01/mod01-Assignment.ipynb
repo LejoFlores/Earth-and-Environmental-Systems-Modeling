{
 "cells": [
  {
   "cell_type": "markdown",
   "metadata": {},
   "source": [
    "# Module 01: Jupyter Notebook Assignment\n",
    "\n",
    "## Name: \n",
    "\n",
    "### Part I: Instructions\n",
    "\n",
    "In this part of the assignment, your task is to create a one-dimensional random walk model similar to the one in [the example notebook](./mod01-PythonIntro-1.ipynb) with the following parameters:\n",
    "\n",
    "* `Nt` = 200\n",
    "* `mu_x` = 1.5\n",
    "* `s_x` = 2.1\n",
    "* `min_x` = 1.25\n",
    "\n",
    "Where `min_x` is a new parameter that is the _minimum step size_ at each step in the random walk. When you calculate the step size at each step, you will only accept values that are larger than `min_x` by using a `while` loop to keep generating step sizes until the step size exceeds `min_x`. Do this for `Nx` = 1,000 random walkers. \n",
    "\n",
    "___Deliverables:___ \n",
    "\n",
    "1. Code to create the random walk with comments\n",
    "2. Reproduce the 2 figures in section 5.1 and 5.2 of the example notebook (__Note__: you will have to adjust the `bins` and `range` parameters provided to histogram). "
   ]
  },
  {
   "cell_type": "code",
   "execution_count": 1,
   "metadata": {},
   "outputs": [],
   "source": [
    "import numpy as np\n",
    "import matplotlib.pyplot as plt\n",
    "\n",
    "Nt = 200\n",
    "Nx = 1000\n",
    "\n",
    "mu_x = 1.5\n",
    "s_x = 2.1\n",
    "min_x = 1.25\n"
   ]
  },
  {
   "cell_type": "markdown",
   "metadata": {},
   "source": [
    "### Part II: Instructions\n",
    "\n",
    "In this part of the assignment, your task is to create a __two-dimensional__ random walk model. The 2-D random walk is just an extension of the 1-D random walk into a second dimension. Assume that at each step in the random walk, the step size in the x- and y-directions are _independent_ of one another. That is, you do not need to know anything about the step size in the x-direction to calculate the step size in the y-direction and vice versa. Use the following parameters:\n",
    "\n",
    "* Nt = 300\n",
    "* Nx = 3\n",
    "* mu_x = 0.5\n",
    "* s_x = 1.5\n",
    "* mu_y = 5.0\n",
    "* s_y = 2.5\n",
    "\n",
    "Where `mu_y` and `s_y` are, respectively, the average and standard deviation of the step size in the y-direction.\n",
    "\n",
    "___Deliverables___\n",
    "\n",
    "1. Code to create the random walk with comments\n",
    "2. Plot the position of all three random walkers at each step of their respective random walks on the ___same plot___."
   ]
  },
  {
   "cell_type": "code",
   "execution_count": 2,
   "metadata": {},
   "outputs": [],
   "source": [
    "Nt = 300\n",
    "Nx = 3\n",
    "\n",
    "mu_x = 0.5\n",
    "s_x = 1.5\n",
    "mu_y = 5.0\n",
    "s_y = 2.5\n"
   ]
  }
 ],
 "metadata": {
  "kernelspec": {
   "display_name": "Python 3",
   "language": "python",
   "name": "python3"
  },
  "language_info": {
   "codemirror_mode": {
    "name": "ipython",
    "version": 3
   },
   "file_extension": ".py",
   "mimetype": "text/x-python",
   "name": "python",
   "nbconvert_exporter": "python",
   "pygments_lexer": "ipython3",
   "version": "3.7.7"
  }
 },
 "nbformat": 4,
 "nbformat_minor": 4
}
