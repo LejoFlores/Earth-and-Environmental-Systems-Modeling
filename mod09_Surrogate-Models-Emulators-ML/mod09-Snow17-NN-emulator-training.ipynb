{
 "cells": [
  {
   "cell_type": "code",
   "execution_count": 42,
   "metadata": {},
   "outputs": [],
   "source": [
    "import numpy as np\n",
    "import matplotlib.pyplot as plt\n",
    "import pandas as pd\n",
    "from sklearn.neural_network import MLPRegressor\n",
    "\n",
    "param_file = 'Snow17_NN_params.csv'\n",
    "SWE_sim_file = 'Snow17_NN_SWE.csv'\n",
    "forcing_file = 'Snow17_NN_forcing.csv'\n"
   ]
  },
  {
   "cell_type": "markdown",
   "metadata": {},
   "source": [
    "## 2. Split Training and Testing Dataset"
   ]
  },
  {
   "cell_type": "code",
   "execution_count": 43,
   "metadata": {},
   "outputs": [
    {
     "name": "stdout",
     "output_type": "stream",
     "text": [
      "Nt = 7305\n",
      "Nreps = 1000\n"
     ]
    }
   ],
   "source": [
    "df_params = pd.read_csv(param_file)\n",
    "df_swe_sim = pd.read_csv(SWE_sim_file)\n",
    "df_forcing = pd.read_csv(forcing_file)\n",
    "\n",
    "Nt = df_swe_sim.shape[0]\n",
    "Nreps = df_params.shape[0]\n",
    "\n",
    "print('Nt = '+str(Nt))\n",
    "print('Nreps = '+str(Nreps))\n"
   ]
  },
  {
   "cell_type": "markdown",
   "metadata": {},
   "source": [
    "## 3. Assemble Training and Test Datasets Into Correct Format"
   ]
  },
  {
   "cell_type": "code",
   "execution_count": 44,
   "metadata": {},
   "outputs": [
    {
     "name": "stdout",
     "output_type": "stream",
     "text": [
      "(7305000, 1)\n"
     ]
    }
   ],
   "source": [
    "# Process our \"Obervations\" we want the neural net to predict. In this case SWE\n",
    "# Get the SWE ensemble and reshape it into a 1-D array, column-wise \n",
    "SWE_ens = df_swe_sim.iloc[:,2:].values\n",
    "SWE_ens_1D = SWE_ens.T.reshape(Nt*Nreps,1)\n",
    "\n",
    "print(SWE_ens_1D.shape)"
   ]
  },
  {
   "cell_type": "code",
   "execution_count": 48,
   "metadata": {},
   "outputs": [
    {
     "name": "stdout",
     "output_type": "stream",
     "text": [
      "Shape of tair_ens = (7305000, 1)\n",
      "Shape of pcp_ens = (7305000, 1)\n"
     ]
    }
   ],
   "source": [
    "# Process our forcings, making a copy for each ensemble member\n",
    "tair = df_forcing['tair'].values.reshape((Nt,1))\n",
    "tair_ens = np.tile(tair,(Nreps,1))\n",
    "print('Shape of tair_ens = '+str(tair_ens.shape))\n",
    "\n",
    "pcp = df_forcing['pcp'].values.reshape((Nt,1))\n",
    "pcp_ens = np.tile(pcp,(Nreps,1))\n",
    "print('Shape of pcp_ens = '+str(pcp_ens.shape))"
   ]
  },
  {
   "cell_type": "code",
   "execution_count": 54,
   "metadata": {},
   "outputs": [
    {
     "name": "stdout",
     "output_type": "stream",
     "text": [
      "Shape of Dd_ens = (7305000, 1)\n",
      "Shape of Tt_ens = (7305000, 1)\n"
     ]
    }
   ],
   "source": [
    "# Process our parameters making a copy for each date\n",
    "Dd = df_params['Dd_ens'].values.reshape((1,Nreps))\n",
    "Dd_ens = np.tile(Dd,(Nt,1)).T.reshape((Nt*Nreps,1))\n",
    "\n",
    "Tt = df_params['Tt_ens'].values.reshape((1,Nreps))\n",
    "Tt_ens = np.tile(Tt,(Nt,1)).T.reshape((Nt*Nreps,1))\n",
    "\n",
    "print('Shape of Dd_ens = '+str(Dd_ens.shape))\n",
    "print('Shape of Tt_ens = '+str(Tt_ens.shape))"
   ]
  },
  {
   "cell_type": "code",
   "execution_count": 58,
   "metadata": {},
   "outputs": [
    {
     "name": "stdout",
     "output_type": "stream",
     "text": [
      "[[ 0.         10.55555556  4.48386247 -0.30981407]\n",
      " [ 0.         10.55555556  4.48386247 -0.30981407]\n",
      " [ 0.          8.33333333  4.48386247 -0.30981407]\n",
      " ...\n",
      " [ 0.          4.44444444  1.89457969  1.84999293]\n",
      " [ 0.          9.44444444  1.89457969  1.84999293]\n",
      " [ 0.         10.55555556  1.89457969  1.84999293]]\n"
     ]
    }
   ],
   "source": [
    "# Assemble predictor array\n",
    "SWE_predictors = np.concatenate((pcp_ens,tair_ens,Dd_ens,Tt_ens),axis=1)\n",
    "\n",
    "print(SWE_predictors)\n"
   ]
  },
  {
   "cell_type": "markdown",
   "metadata": {},
   "source": [
    "## 4. Train the Neural Network Model"
   ]
  },
  {
   "cell_type": "code",
   "execution_count": null,
   "metadata": {},
   "outputs": [],
   "source": []
  },
  {
   "cell_type": "code",
   "execution_count": null,
   "metadata": {},
   "outputs": [],
   "source": []
  },
  {
   "cell_type": "code",
   "execution_count": null,
   "metadata": {},
   "outputs": [],
   "source": []
  }
 ],
 "metadata": {
  "kernelspec": {
   "display_name": ".conda",
   "language": "python",
   "name": "python3"
  },
  "language_info": {
   "codemirror_mode": {
    "name": "ipython",
    "version": 3
   },
   "file_extension": ".py",
   "mimetype": "text/x-python",
   "name": "python",
   "nbconvert_exporter": "python",
   "pygments_lexer": "ipython3",
   "version": "3.11.5"
  }
 },
 "nbformat": 4,
 "nbformat_minor": 2
}
