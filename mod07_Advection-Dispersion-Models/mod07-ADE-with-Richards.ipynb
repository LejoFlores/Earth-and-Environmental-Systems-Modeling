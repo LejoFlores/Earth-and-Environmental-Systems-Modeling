{
 "cells": [
  {
   "cell_type": "code",
   "execution_count": 17,
   "metadata": {},
   "outputs": [],
   "source": [
    "import numpy as np\n",
    "import matplotlib.pyplot as plt\n",
    "\n",
    "# Parameters for a simple 1D Richards equation solver using Picard iteration\n",
    "# Picard iteration parameters\n",
    "max_iter = 10  # maximum number of Picard iterations\n",
    "tol = 1e-6  # convergence tolerance\n",
    "\n",
    "# Updated parameters\n",
    "zmax = 1000.0  # length of the domain in cm \n",
    "dz = 5.0\n",
    "z = np.arange(dz/2,zmax,dz)  # spatial step size (5 cm increments)\n",
    "Nz = z.size\n",
    "\n",
    "t0 = 0.0\n",
    "tf = 2000  # [hr] duration of run \n",
    "dt = 0.25  # [hr] larger time step in days for computational efficiency\n",
    "t = np.arange(t0,tf,dt)\n",
    "Nt = t.size\n",
    "\n",
    "# Soil hydraulic parameters (simplified)\n",
    "theta_r = 0.05      # residual water content\n",
    "theta_s = 0.45     # saturated water content\n",
    "alpha = 0.03       # parameter (1/m)\n",
    "n = 2.5            # parameter for soil water retention curve\n",
    "Ks = 0.72e-3*3600  # saturated hydraulic conductivity (cm/hr)\n",
    "\n",
    "g = 12713760000 # gravitational acceleration in cm/hr^2\n",
    "\n",
    "# Boundary conditions\n",
    "theta0 = theta_r + 0.2  # initial water content\n",
    "theta_top = theta_s  # water content at surface\n",
    "theta_bottom = theta_r  # water content at the bottom\n",
    "\n",
    "# Discretized domain\n",
    "theta = np.ones(Nz) * theta0\n",
    "theta_new = np.zeros(Nz)"
   ]
  },
  {
   "cell_type": "code",
   "execution_count": 18,
   "metadata": {},
   "outputs": [],
   "source": [
    "# Functions for hydraulic properties\n",
    "def theta_h(h, alpha, n, theta_r, theta_s):\n",
    "    Se = 1 / (1 + (alpha * h)**n)**(1 - 1/n)\n",
    "    return theta_r + Se * (theta_s - theta_r)\n",
    "\n",
    "def h_theta(theta, alpha, n, theta_r, theta_s):\n",
    "    Se = (theta - theta_r) / (theta_s - theta_r)\n",
    "    h = (1 / alpha) * ((Se**(-1/(1 - 1/n))) - 1)**(1/n)\n",
    "    return h\n",
    "\n",
    "def K(h, Ks, alpha, n):\n",
    "    Se = 1 / (1 + (alpha * h)**n)**(1 - 1/n)\n",
    "    return Ks * Se**0.5 * (1 - (1 - Se**(n / (n - 1)))**(1 - 1/n))**2\n",
    "\n",
    "def C(h, alpha, n, theta_r, theta_s):\n",
    "    return (alpha * (1 + (alpha * h)**n)**(-1 + 1/n)) * (theta_s - theta_r)\n",
    "\n",
    "# Simple time loop with Picard iteration\n",
    "# Function to handle free drainage at the bottom boundary (zero gradient)\n",
    "def richards_solver_free_drainage(theta, Nz, dz, Nt, dt):\n",
    "    theta_new = np.copy(theta)\n",
    "    Theta = np.zeros((Nt, Nz))  # Array to store water content at each timestep\n",
    "    for t in range(Nt):\n",
    "        for picard_iter in range(max_iter):\n",
    "            theta_old = np.copy(theta_new)  # Store old values for convergence check\n",
    "            for i in range(1, Nz - 1):\n",
    "                # Calculate hydraulic head\n",
    "                h_old = h_theta(theta_new[i], alpha, n, theta_r, theta_s)\n",
    "                \n",
    "                # Calculate the total hydraulic head (h_total = h_m + z) and the flux\n",
    "                h_total_old = h_old + z[i] / 100  # adding gravitational head\n",
    "                \n",
    "                # Calculate the hydraulic conductivity\n",
    "                K_val = K(h_old, Ks, alpha, n)\n",
    "\n",
    "                # Update the water content using the total flux (capillarity + gravity)\n",
    "                flux_in = K_val * ((h_total_old - h_total_old) - (theta_new[i] - theta_new[i - 1])) / dz\n",
    "                flux_out = K_val * (theta_new[i] - theta_new[i + 1]) / dz + g * dt\n",
    "                \n",
    "                theta_new[i] += dt * (flux_in - flux_out) / dz\n",
    "\n",
    "            # Check for convergence (max difference between old and new values)\n",
    "            if np.max(np.abs(theta_new - theta_old)) < tol:\n",
    "                break\n",
    "\n",
    "        # Apply boundary conditions\n",
    "        theta_new[0] = theta_top  # Dirichlet BC at the surface\n",
    "        # Free drainage at the bottom: zero flux condition (d(theta)/dz = 0)\n",
    "        theta_new[-1] = theta_new[-2]\n",
    "        \n",
    "        # Save theta at each time step\n",
    "        Theta[t, :] = theta_new\n",
    "        \n",
    "    return Theta\n",
    "\n",
    "\n"
   ]
  },
  {
   "cell_type": "code",
   "execution_count": 19,
   "metadata": {},
   "outputs": [
    {
     "name": "stderr",
     "output_type": "stream",
     "text": [
      "/var/folders/1k/mbw42lf14zx98ylfyw3rythr6_jghh/T/ipykernel_84954/966770423.py:8: RuntimeWarning: invalid value encountered in scalar power\n",
      "  h = (1 / alpha) * ((Se**(-1/(1 - 1/n))) - 1)**(1/n)\n"
     ]
    }
   ],
   "source": [
    "p = 50\n",
    "\n",
    "# Initial water content profile\n",
    "theta = np.ones(Nz) * theta0\n",
    "\n",
    "# Run the solver with the new settings and save the results in Theta\n",
    "Theta = richards_solver_free_drainage(theta, Nz, dz, Nt, dt)\n",
    "\n"
   ]
  },
  {
   "cell_type": "code",
   "execution_count": 20,
   "metadata": {},
   "outputs": [
    {
     "data": {
      "image/png": "[encoded data removed]",
      "text/plain": [
       "<Figure size 640x480 with 1 Axes>"
      ]
     },
     "metadata": {},
     "output_type": "display_data"
    }
   ],
   "source": [
    "# Customize and show the plot\n",
    "plt.xlabel(\"Volumetric Water Content (cm ${}^3$/cm ${}^3$)\")\n",
    "plt.ylabel(\"Soil Depth [cm]\")\n",
    "for t in np.arange(0,Nt,p):\n",
    "    if t % p == 0:\n",
    "        plt.plot(Theta[t,:],-z, 'b-')\n",
    "plt.title(\"1-D Richards Equation Solution (Free Drainage) - Every 50 Time Steps\")\n",
    "plt.show()"
   ]
  },
  {
   "cell_type": "code",
   "execution_count": null,
   "metadata": {},
   "outputs": [],
   "source": []
  }
 ],
 "metadata": {
  "kernelspec": {
   "display_name": "geos505",
   "language": "python",
   "name": "python3"
  },
  "language_info": {
   "codemirror_mode": {
    "name": "ipython",
    "version": 3
   },
   "file_extension": ".py",
   "mimetype": "text/x-python",
   "name": "python",
   "nbconvert_exporter": "python",
   "pygments_lexer": "ipython3",
   "version": "3.11.0"
  }
 },
 "nbformat": 4,
 "nbformat_minor": 2
}
